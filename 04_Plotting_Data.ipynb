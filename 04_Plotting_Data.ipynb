{
 "cells": [
  {
   "cell_type": "markdown",
   "metadata": {},
   "source": [
    "# Creating plots of your dataframes"
   ]
  },
  {
   "cell_type": "markdown",
   "metadata": {},
   "source": [
    "### The easiest way to create plots good plot is these 2 options:\n",
    "#### - use the seaborn library for plots\n",
    "#### - or if you want interactive plots use a library called plotly express"
   ]
  },
  {
   "cell_type": "code",
   "execution_count": null,
   "metadata": {},
   "outputs": [],
   "source": [
    "import pandas as pd\n",
    "import seaborn as sns\n",
    "\n",
    "import plotly.express as px\n",
    "\n",
    "# some nicer plotly setting\n",
    "import plotly.io as pio\n",
    "pio.templates.default = 'plotly_white'\n",
    "\n",
    "df = pd.read_csv('./data/most_voted_titles_enriched.csv')\n",
    "\n",
    "df.head(3)"
   ]
  },
  {
   "cell_type": "markdown",
   "metadata": {},
   "source": [
    "### Let's see how you make a scatter plot in seaborn and plot runtime vs the average rating.\n",
    "### The syntax is usually like this:\n",
    "#### - specify the dataframe you want to use\n",
    "#### - specify your x-variable\n",
    "#### - specify your y-variable\n",
    "#### - and if you would like to color certain points, then specify the hue"
   ]
  },
  {
   "cell_type": "markdown",
   "metadata": {},
   "source": [
    "### Here's the seaborn way of doing things:"
   ]
  },
  {
   "cell_type": "code",
   "execution_count": null,
   "metadata": {},
   "outputs": [],
   "source": [
    "sns.scatterplot(\n",
    "    data=df, \n",
    "    x='runtimeMinutes', \n",
    "    y='averageRating', \n",
    "    hue='titleType', \n",
    "    s=3.\n",
    ");"
   ]
  },
  {
   "cell_type": "markdown",
   "metadata": {},
   "source": [
    "### But plotting interactive plots is just as easy and makes it easier to check outliers. We are using plotly.express for this."
   ]
  },
  {
   "cell_type": "code",
   "execution_count": null,
   "metadata": {},
   "outputs": [],
   "source": [
    "px.scatter(\n",
    "    title='runtime vs average rating',\n",
    "    data_frame=df.query('runtimeMinutes < 400'), \n",
    "    x='runtimeMinutes', \n",
    "    y='averageRating', \n",
    "    color='titleType',\n",
    "    hover_data=['primaryTitle'],\n",
    "    opacity=0.4,\n",
    "    height=500,\n",
    ")"
   ]
  },
  {
   "cell_type": "markdown",
   "metadata": {},
   "source": [
    "### There all sorts of plots with plotly.express. Here's an example of a histogram"
   ]
  },
  {
   "cell_type": "code",
   "execution_count": null,
   "metadata": {
    "scrolled": false
   },
   "outputs": [],
   "source": [
    "px.histogram(\n",
    "    title='Histogram of average rating vs titletype',\n",
    "    data_frame=df,\n",
    "    x='averageRating',\n",
    "    color='titleType',\n",
    "    histnorm='probability density',\n",
    ")"
   ]
  },
  {
   "cell_type": "markdown",
   "metadata": {},
   "source": [
    "### Or a boxplot of rating by titletype"
   ]
  },
  {
   "cell_type": "code",
   "execution_count": null,
   "metadata": {},
   "outputs": [],
   "source": [
    "px.box(\n",
    "    title='Comparing average rating by titleType',\n",
    "    data_frame=df,\n",
    "    x='titleType',\n",
    "    y='averageRating',\n",
    ")"
   ]
  },
  {
   "cell_type": "markdown",
   "metadata": {},
   "source": [
    "## We can do a count of values by using method `.value_counts(dropna=False)`\n",
    "## Let's make a count of all the countries in the dataset"
   ]
  },
  {
   "cell_type": "code",
   "execution_count": null,
   "metadata": {},
   "outputs": [],
   "source": []
  },
  {
   "cell_type": "markdown",
   "metadata": {},
   "source": [
    "## And let's plot that count with a barplot"
   ]
  },
  {
   "cell_type": "code",
   "execution_count": null,
   "metadata": {},
   "outputs": [],
   "source": []
  }
 ],
 "metadata": {
  "kernelspec": {
   "display_name": "hv_new",
   "language": "python",
   "name": "hv_new"
  },
  "language_info": {
   "codemirror_mode": {
    "name": "ipython",
    "version": 3
   },
   "file_extension": ".py",
   "mimetype": "text/x-python",
   "name": "python",
   "nbconvert_exporter": "python",
   "pygments_lexer": "ipython3",
   "version": "3.7.9"
  }
 },
 "nbformat": 4,
 "nbformat_minor": 4
}
