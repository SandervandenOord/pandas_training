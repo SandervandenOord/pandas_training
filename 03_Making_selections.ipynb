{
 "cells": [
  {
   "cell_type": "markdown",
   "metadata": {},
   "source": [
    "# Creating selections and subsets of your data"
   ]
  },
  {
   "cell_type": "markdown",
   "metadata": {},
   "source": [
    "### There are many ways to get selections or subsets of your data:\n",
    "#### - selecting a column with `df['averageRating']`\n",
    "#### - selecting multiple columns using a list: `df[['tconst', 'averageRating']]`\n",
    "#### - selecting a subset using a condition: `df[df['averageRating'] > 9.0]`\n",
    "#### - using `.query(\"averageRating > 0\")`"
   ]
  },
  {
   "cell_type": "markdown",
   "metadata": {},
   "source": [
    "### Let's first read in our data again"
   ]
  },
  {
   "cell_type": "code",
   "execution_count": 3,
   "metadata": {},
   "outputs": [],
   "source": [
    "import pandas as pd\n",
    "pd.options.display.max_columns = 50\n",
    "\n",
    "df = pd.read_csv('./data/most_voted_titles_enriched.csv')"
   ]
  },
  {
   "cell_type": "code",
   "execution_count": 4,
   "metadata": {},
   "outputs": [
    {
     "data": {
      "text/html": [
       "<div>\n",
       "<style scoped>\n",
       "    .dataframe tbody tr th:only-of-type {\n",
       "        vertical-align: middle;\n",
       "    }\n",
       "\n",
       "    .dataframe tbody tr th {\n",
       "        vertical-align: top;\n",
       "    }\n",
       "\n",
       "    .dataframe thead th {\n",
       "        text-align: right;\n",
       "    }\n",
       "</style>\n",
       "<table border=\"1\" class=\"dataframe\">\n",
       "  <thead>\n",
       "    <tr style=\"text-align: right;\">\n",
       "      <th></th>\n",
       "      <th>tconst</th>\n",
       "      <th>titleType</th>\n",
       "      <th>primaryTitle</th>\n",
       "      <th>originalTitle</th>\n",
       "      <th>isAdult</th>\n",
       "      <th>startYear</th>\n",
       "      <th>endYear</th>\n",
       "      <th>runtimeMinutes</th>\n",
       "      <th>genres</th>\n",
       "      <th>genre1</th>\n",
       "      <th>genre2</th>\n",
       "      <th>genre3</th>\n",
       "      <th>url</th>\n",
       "      <th>averageRating</th>\n",
       "      <th>numVotes</th>\n",
       "      <th>metascore</th>\n",
       "      <th>country</th>\n",
       "      <th>primary_language</th>\n",
       "      <th>color</th>\n",
       "      <th>budget</th>\n",
       "      <th>opening_weekend_usa</th>\n",
       "      <th>gross_usa</th>\n",
       "      <th>cumulative_worldwide</th>\n",
       "      <th>tagline</th>\n",
       "      <th>summary</th>\n",
       "      <th>image_url</th>\n",
       "    </tr>\n",
       "  </thead>\n",
       "  <tbody>\n",
       "    <tr>\n",
       "      <th>0</th>\n",
       "      <td>tt0010323</td>\n",
       "      <td>movie</td>\n",
       "      <td>The Cabinet of Dr. Caligari</td>\n",
       "      <td>Das Cabinet des Dr. Caligari</td>\n",
       "      <td>0</td>\n",
       "      <td>1920</td>\n",
       "      <td>NaN</td>\n",
       "      <td>76.000</td>\n",
       "      <td>Fantasy,Horror,Mystery</td>\n",
       "      <td>Fantasy</td>\n",
       "      <td>Horror</td>\n",
       "      <td>Mystery</td>\n",
       "      <td>https://www.imdb.com/title/tt0010323</td>\n",
       "      <td>8.100</td>\n",
       "      <td>57097</td>\n",
       "      <td>NaN</td>\n",
       "      <td>Germany</td>\n",
       "      <td>None</td>\n",
       "      <td>Black and White</td>\n",
       "      <td>$18,000</td>\n",
       "      <td>NaN</td>\n",
       "      <td>$8,811</td>\n",
       "      <td>$8,811</td>\n",
       "      <td>You must become Caligari.</td>\n",
       "      <td>Hypnotist Dr. Caligari uses a somnambulist, Ce...</td>\n",
       "      <td>https://m.media-amazon.com/images/M/MV5BNWJiNG...</td>\n",
       "    </tr>\n",
       "    <tr>\n",
       "      <th>1</th>\n",
       "      <td>tt0012349</td>\n",
       "      <td>movie</td>\n",
       "      <td>The Kid</td>\n",
       "      <td>The Kid</td>\n",
       "      <td>0</td>\n",
       "      <td>1921</td>\n",
       "      <td>NaN</td>\n",
       "      <td>68.000</td>\n",
       "      <td>Comedy,Drama,Family</td>\n",
       "      <td>Comedy</td>\n",
       "      <td>Drama</td>\n",
       "      <td>Family</td>\n",
       "      <td>https://www.imdb.com/title/tt0012349</td>\n",
       "      <td>8.300</td>\n",
       "      <td>112377</td>\n",
       "      <td>NaN</td>\n",
       "      <td>USA</td>\n",
       "      <td>None</td>\n",
       "      <td>Black and White</td>\n",
       "      <td>$250,000</td>\n",
       "      <td>NaN</td>\n",
       "      <td>NaN</td>\n",
       "      <td>$26,916</td>\n",
       "      <td>This is the great film he has been working on ...</td>\n",
       "      <td>The Tramp cares for an abandoned child, but ev...</td>\n",
       "      <td>https://m.media-amazon.com/images/M/MV5BZjhhMT...</td>\n",
       "    </tr>\n",
       "    <tr>\n",
       "      <th>2</th>\n",
       "      <td>tt0013442</td>\n",
       "      <td>movie</td>\n",
       "      <td>Nosferatu</td>\n",
       "      <td>Nosferatu, eine Symphonie des Grauens</td>\n",
       "      <td>0</td>\n",
       "      <td>1922</td>\n",
       "      <td>NaN</td>\n",
       "      <td>94.000</td>\n",
       "      <td>Fantasy,Horror</td>\n",
       "      <td>Fantasy</td>\n",
       "      <td>Horror</td>\n",
       "      <td>NaN</td>\n",
       "      <td>https://www.imdb.com/title/tt0013442</td>\n",
       "      <td>7.900</td>\n",
       "      <td>88440</td>\n",
       "      <td>NaN</td>\n",
       "      <td>Germany</td>\n",
       "      <td>None</td>\n",
       "      <td>Black and White</td>\n",
       "      <td>NaN</td>\n",
       "      <td>NaN</td>\n",
       "      <td>NaN</td>\n",
       "      <td>$19,054</td>\n",
       "      <td>A thrilling mystery masterpiece - a chilling p...</td>\n",
       "      <td>Vampire Count Orlok expresses interest in a ne...</td>\n",
       "      <td>https://m.media-amazon.com/images/M/MV5BMTAxYj...</td>\n",
       "    </tr>\n",
       "  </tbody>\n",
       "</table>\n",
       "</div>"
      ],
      "text/plain": [
       "      tconst titleType                 primaryTitle  \\\n",
       "0  tt0010323     movie  The Cabinet of Dr. Caligari   \n",
       "1  tt0012349     movie                      The Kid   \n",
       "2  tt0013442     movie                    Nosferatu   \n",
       "\n",
       "                           originalTitle  isAdult  startYear  endYear  \\\n",
       "0           Das Cabinet des Dr. Caligari        0       1920      NaN   \n",
       "1                                The Kid        0       1921      NaN   \n",
       "2  Nosferatu, eine Symphonie des Grauens        0       1922      NaN   \n",
       "\n",
       "   runtimeMinutes                  genres   genre1  genre2   genre3  \\\n",
       "0          76.000  Fantasy,Horror,Mystery  Fantasy  Horror  Mystery   \n",
       "1          68.000     Comedy,Drama,Family   Comedy   Drama   Family   \n",
       "2          94.000          Fantasy,Horror  Fantasy  Horror      NaN   \n",
       "\n",
       "                                    url  averageRating  numVotes  metascore  \\\n",
       "0  https://www.imdb.com/title/tt0010323          8.100     57097        NaN   \n",
       "1  https://www.imdb.com/title/tt0012349          8.300    112377        NaN   \n",
       "2  https://www.imdb.com/title/tt0013442          7.900     88440        NaN   \n",
       "\n",
       "   country primary_language            color    budget opening_weekend_usa  \\\n",
       "0  Germany             None  Black and White   $18,000                 NaN   \n",
       "1      USA             None  Black and White  $250,000                 NaN   \n",
       "2  Germany             None  Black and White       NaN                 NaN   \n",
       "\n",
       "  gross_usa cumulative_worldwide  \\\n",
       "0    $8,811               $8,811   \n",
       "1       NaN              $26,916   \n",
       "2       NaN              $19,054   \n",
       "\n",
       "                                             tagline  \\\n",
       "0                          You must become Caligari.   \n",
       "1  This is the great film he has been working on ...   \n",
       "2  A thrilling mystery masterpiece - a chilling p...   \n",
       "\n",
       "                                             summary  \\\n",
       "0  Hypnotist Dr. Caligari uses a somnambulist, Ce...   \n",
       "1  The Tramp cares for an abandoned child, but ev...   \n",
       "2  Vampire Count Orlok expresses interest in a ne...   \n",
       "\n",
       "                                           image_url  \n",
       "0  https://m.media-amazon.com/images/M/MV5BNWJiNG...  \n",
       "1  https://m.media-amazon.com/images/M/MV5BZjhhMT...  \n",
       "2  https://m.media-amazon.com/images/M/MV5BMTAxYj...  "
      ]
     },
     "execution_count": 4,
     "metadata": {},
     "output_type": "execute_result"
    }
   ],
   "source": [
    "df.head(3)"
   ]
  },
  {
   "cell_type": "markdown",
   "metadata": {},
   "source": [
    "## Let's say we only want 1 column. How do we do that? Here are 2 ways:"
   ]
  },
  {
   "cell_type": "markdown",
   "metadata": {},
   "source": [
    "### 1. Specifying the column you want: let's say we want to only look at the startYear column"
   ]
  },
  {
   "cell_type": "code",
   "execution_count": null,
   "metadata": {},
   "outputs": [],
   "source": [
    "df['startYear']"
   ]
  },
  {
   "cell_type": "markdown",
   "metadata": {},
   "source": [
    "### Specifying only 1 column gives you a Series"
   ]
  },
  {
   "cell_type": "code",
   "execution_count": null,
   "metadata": {},
   "outputs": [],
   "source": [
    "type(df['startYear'])"
   ]
  },
  {
   "cell_type": "markdown",
   "metadata": {},
   "source": [
    "### 2. The column names are also attributes, so you also use the dot notation"
   ]
  },
  {
   "cell_type": "code",
   "execution_count": null,
   "metadata": {},
   "outputs": [],
   "source": [
    "df.startYear"
   ]
  },
  {
   "cell_type": "markdown",
   "metadata": {},
   "source": [
    "### So selecting multiple columns can be done by using a list"
   ]
  },
  {
   "cell_type": "code",
   "execution_count": null,
   "metadata": {},
   "outputs": [],
   "source": [
    "columns_needed = ['tconst', 'averageRating', 'startYear']\n",
    "\n",
    "df[columns_needed]"
   ]
  },
  {
   "cell_type": "markdown",
   "metadata": {},
   "source": [
    "### Let's say you only want titles with an average rating greater than 9.0. We need to use boolean vectors:"
   ]
  },
  {
   "cell_type": "code",
   "execution_count": null,
   "metadata": {},
   "outputs": [],
   "source": [
    "df['averageRating'] > 9.0"
   ]
  },
  {
   "cell_type": "code",
   "execution_count": null,
   "metadata": {},
   "outputs": [],
   "source": [
    "df[df['averageRating'] > 9.0].head(3)"
   ]
  },
  {
   "cell_type": "markdown",
   "metadata": {},
   "source": [
    "### But we want multiple conditions: average rating greater than 9 AND only movies:"
   ]
  },
  {
   "cell_type": "code",
   "execution_count": null,
   "metadata": {},
   "outputs": [],
   "source": [
    "(df['titleType'] == 'movie')"
   ]
  },
  {
   "cell_type": "code",
   "execution_count": null,
   "metadata": {},
   "outputs": [],
   "source": [
    "(df['averageRating'] > 9.0)"
   ]
  },
  {
   "cell_type": "code",
   "execution_count": null,
   "metadata": {},
   "outputs": [],
   "source": [
    "df[(df['titleType'] == 'movie') & (df['averageRating'] > 9.0)]"
   ]
  },
  {
   "cell_type": "markdown",
   "metadata": {},
   "source": [
    "### But this gets tedious, so I myself prefer to use the dataframe method `.query()`"
   ]
  },
  {
   "cell_type": "code",
   "execution_count": null,
   "metadata": {},
   "outputs": [],
   "source": [
    "df.query(\"titleType == 'movie' and averageRating > 9\")"
   ]
  },
  {
   "cell_type": "markdown",
   "metadata": {},
   "source": [
    "### One handy way of selecting strings still is using `.isin()`"
   ]
  },
  {
   "cell_type": "code",
   "execution_count": null,
   "metadata": {},
   "outputs": [],
   "source": [
    "df[df['genre1'].isin(['Crime', 'Drama'])]"
   ]
  },
  {
   "cell_type": "markdown",
   "metadata": {},
   "source": [
    "### Ok, ok, just one more thing: if you want to find a string in a text, you can use `.str.contains('your_text', case=False)`"
   ]
  },
  {
   "cell_type": "code",
   "execution_count": 6,
   "metadata": {},
   "outputs": [
    {
     "data": {
      "text/html": [
       "<div>\n",
       "<style scoped>\n",
       "    .dataframe tbody tr th:only-of-type {\n",
       "        vertical-align: middle;\n",
       "    }\n",
       "\n",
       "    .dataframe tbody tr th {\n",
       "        vertical-align: top;\n",
       "    }\n",
       "\n",
       "    .dataframe thead th {\n",
       "        text-align: right;\n",
       "    }\n",
       "</style>\n",
       "<table border=\"1\" class=\"dataframe\">\n",
       "  <thead>\n",
       "    <tr style=\"text-align: right;\">\n",
       "      <th></th>\n",
       "      <th>tconst</th>\n",
       "      <th>titleType</th>\n",
       "      <th>primaryTitle</th>\n",
       "      <th>originalTitle</th>\n",
       "      <th>isAdult</th>\n",
       "      <th>startYear</th>\n",
       "      <th>endYear</th>\n",
       "      <th>runtimeMinutes</th>\n",
       "      <th>genres</th>\n",
       "      <th>genre1</th>\n",
       "      <th>genre2</th>\n",
       "      <th>genre3</th>\n",
       "      <th>url</th>\n",
       "      <th>averageRating</th>\n",
       "      <th>numVotes</th>\n",
       "      <th>metascore</th>\n",
       "      <th>country</th>\n",
       "      <th>primary_language</th>\n",
       "      <th>color</th>\n",
       "      <th>budget</th>\n",
       "      <th>opening_weekend_usa</th>\n",
       "      <th>gross_usa</th>\n",
       "      <th>cumulative_worldwide</th>\n",
       "      <th>tagline</th>\n",
       "      <th>summary</th>\n",
       "      <th>image_url</th>\n",
       "    </tr>\n",
       "  </thead>\n",
       "  <tbody>\n",
       "    <tr>\n",
       "      <th>316</th>\n",
       "      <td>tt0068646</td>\n",
       "      <td>movie</td>\n",
       "      <td>The Godfather</td>\n",
       "      <td>The Godfather</td>\n",
       "      <td>0</td>\n",
       "      <td>1972</td>\n",
       "      <td>NaN</td>\n",
       "      <td>175.000</td>\n",
       "      <td>Crime,Drama</td>\n",
       "      <td>Crime</td>\n",
       "      <td>Drama</td>\n",
       "      <td>NaN</td>\n",
       "      <td>https://www.imdb.com/title/tt0068646</td>\n",
       "      <td>9.200</td>\n",
       "      <td>1608367</td>\n",
       "      <td>100.000</td>\n",
       "      <td>USA</td>\n",
       "      <td>English</td>\n",
       "      <td>Color</td>\n",
       "      <td>$6,000,000</td>\n",
       "      <td>$302,393,</td>\n",
       "      <td>$134,966,411</td>\n",
       "      <td>$246,120,986</td>\n",
       "      <td>An offer you can't refuse.</td>\n",
       "      <td>The aging patriarch of an organized crime dyna...</td>\n",
       "      <td>https://m.media-amazon.com/images/M/MV5BM2MyNj...</td>\n",
       "    </tr>\n",
       "    <tr>\n",
       "      <th>354</th>\n",
       "      <td>tt0071562</td>\n",
       "      <td>movie</td>\n",
       "      <td>The Godfather: Part II</td>\n",
       "      <td>The Godfather: Part II</td>\n",
       "      <td>0</td>\n",
       "      <td>1974</td>\n",
       "      <td>NaN</td>\n",
       "      <td>202.000</td>\n",
       "      <td>Crime,Drama</td>\n",
       "      <td>Crime</td>\n",
       "      <td>Drama</td>\n",
       "      <td>NaN</td>\n",
       "      <td>https://www.imdb.com/title/tt0071562</td>\n",
       "      <td>9.000</td>\n",
       "      <td>1122882</td>\n",
       "      <td>90.000</td>\n",
       "      <td>USA</td>\n",
       "      <td>English</td>\n",
       "      <td>Color</td>\n",
       "      <td>$13,000,000</td>\n",
       "      <td>$171,417,</td>\n",
       "      <td>$47,834,595</td>\n",
       "      <td>$48,035,783</td>\n",
       "      <td>All the power on earth can't change destiny.</td>\n",
       "      <td>The early life and career of Vito Corleone in ...</td>\n",
       "      <td>https://m.media-amazon.com/images/M/MV5BMWMwMG...</td>\n",
       "    </tr>\n",
       "    <tr>\n",
       "      <th>912</th>\n",
       "      <td>tt0099674</td>\n",
       "      <td>movie</td>\n",
       "      <td>The Godfather: Part III</td>\n",
       "      <td>The Godfather: Part III</td>\n",
       "      <td>0</td>\n",
       "      <td>1990</td>\n",
       "      <td>NaN</td>\n",
       "      <td>162.000</td>\n",
       "      <td>Crime,Drama</td>\n",
       "      <td>Crime</td>\n",
       "      <td>Drama</td>\n",
       "      <td>NaN</td>\n",
       "      <td>https://www.imdb.com/title/tt0099674</td>\n",
       "      <td>7.600</td>\n",
       "      <td>357561</td>\n",
       "      <td>60.000</td>\n",
       "      <td>USA</td>\n",
       "      <td>English</td>\n",
       "      <td>Color</td>\n",
       "      <td>$54,000,000</td>\n",
       "      <td>$6,387,271,</td>\n",
       "      <td>$66,761,392</td>\n",
       "      <td>$136,766,062</td>\n",
       "      <td>Real power can't be given. It must be taken.</td>\n",
       "      <td>Follows Michael Corleone, now in his 60s, as h...</td>\n",
       "      <td>https://m.media-amazon.com/images/M/MV5BNWFlYW...</td>\n",
       "    </tr>\n",
       "  </tbody>\n",
       "</table>\n",
       "</div>"
      ],
      "text/plain": [
       "        tconst titleType             primaryTitle            originalTitle  \\\n",
       "316  tt0068646     movie            The Godfather            The Godfather   \n",
       "354  tt0071562     movie   The Godfather: Part II   The Godfather: Part II   \n",
       "912  tt0099674     movie  The Godfather: Part III  The Godfather: Part III   \n",
       "\n",
       "     isAdult  startYear  endYear  runtimeMinutes       genres genre1 genre2  \\\n",
       "316        0       1972      NaN         175.000  Crime,Drama  Crime  Drama   \n",
       "354        0       1974      NaN         202.000  Crime,Drama  Crime  Drama   \n",
       "912        0       1990      NaN         162.000  Crime,Drama  Crime  Drama   \n",
       "\n",
       "    genre3                                   url  averageRating  numVotes  \\\n",
       "316    NaN  https://www.imdb.com/title/tt0068646          9.200   1608367   \n",
       "354    NaN  https://www.imdb.com/title/tt0071562          9.000   1122882   \n",
       "912    NaN  https://www.imdb.com/title/tt0099674          7.600    357561   \n",
       "\n",
       "     metascore country primary_language  color       budget  \\\n",
       "316    100.000     USA          English  Color   $6,000,000   \n",
       "354     90.000     USA          English  Color  $13,000,000   \n",
       "912     60.000     USA          English  Color  $54,000,000   \n",
       "\n",
       "    opening_weekend_usa     gross_usa cumulative_worldwide  \\\n",
       "316           $302,393,  $134,966,411         $246,120,986   \n",
       "354           $171,417,   $47,834,595          $48,035,783   \n",
       "912         $6,387,271,   $66,761,392         $136,766,062   \n",
       "\n",
       "                                          tagline  \\\n",
       "316                    An offer you can't refuse.   \n",
       "354  All the power on earth can't change destiny.   \n",
       "912  Real power can't be given. It must be taken.   \n",
       "\n",
       "                                               summary  \\\n",
       "316  The aging patriarch of an organized crime dyna...   \n",
       "354  The early life and career of Vito Corleone in ...   \n",
       "912  Follows Michael Corleone, now in his 60s, as h...   \n",
       "\n",
       "                                             image_url  \n",
       "316  https://m.media-amazon.com/images/M/MV5BM2MyNj...  \n",
       "354  https://m.media-amazon.com/images/M/MV5BMWMwMG...  \n",
       "912  https://m.media-amazon.com/images/M/MV5BNWFlYW...  "
      ]
     },
     "execution_count": 6,
     "metadata": {},
     "output_type": "execute_result"
    }
   ],
   "source": [
    "df[df['originalTitle'].str.contains('godfather', case=False)]"
   ]
  }
 ],
 "metadata": {
  "kernelspec": {
   "display_name": "hv_new",
   "language": "python",
   "name": "hv_new"
  },
  "language_info": {
   "codemirror_mode": {
    "name": "ipython",
    "version": 3
   },
   "file_extension": ".py",
   "mimetype": "text/x-python",
   "name": "python",
   "nbconvert_exporter": "python",
   "pygments_lexer": "ipython3",
   "version": "3.7.9"
  }
 },
 "nbformat": 4,
 "nbformat_minor": 4
}
